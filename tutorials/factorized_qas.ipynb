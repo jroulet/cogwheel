{
 "cells": [
  {
   "cell_type": "markdown",
   "id": "2f1a96f7",
   "metadata": {},
   "source": [
    "# Factorized parameter estimation\n",
    "\n",
    "This tutorial shows how to run [factorized parameter estimation](https://arxiv.org/abs/2210.16278) (i.e., sampling over intrinsic parameters while marginalizing over extrinsic parameters, then reconstructing the full posterior in postprocessing). At this point, this method is restricted to quadrupolar, aligned-spin waveforms. It takes ~200 s on a single core for BBH, NSBH or BNS signals."
   ]
  },
  {
   "cell_type": "code",
   "execution_count": null,
   "id": "7ffb7289-c770-4cc3-b371-40beeea02f80",
   "metadata": {
    "ExecuteTime": {
     "end_time": "2023-03-07T21:33:37.676654Z",
     "start_time": "2023-03-07T21:33:31.537750Z"
    }
   },
   "outputs": [],
   "source": [
    "# Ensure only one core is used\n",
    "import os\n",
    "os.environ[\"OMP_NUM_THREADS\"] = \"1\"\n",
    "os.environ[\"MKL_NUM_THREADS\"] = \"1\"\n",
    "\n",
    "import sys\n",
    "path_to_cogwheel = '..'\n",
    "sys.path.append(path_to_cogwheel)\n",
    "\n",
    "import numpy as np\n",
    "import pandas as pd\n",
    "\n",
    "import lal\n",
    "lal.swig_redirect_standard_output_error(False);  # Otherwise LAL may run slow on notebooks\n",
    "\n",
    "from cogwheel import posterior, data, sampling, gw_plotting\n",
    "\n",
    "%matplotlib widget"
   ]
  },
  {
   "cell_type": "markdown",
   "id": "1def996a-6ba7-4acf-aff8-b14e89d7b655",
   "metadata": {},
   "source": [
    "## Directory setup\n",
    "Edit these as desired:"
   ]
  },
  {
   "cell_type": "code",
   "execution_count": null,
   "id": "dd5091a7",
   "metadata": {
    "ExecuteTime": {
     "end_time": "2023-03-07T21:33:37.681437Z",
     "start_time": "2023-03-07T21:33:37.678566Z"
    }
   },
   "outputs": [],
   "source": [
    "parentdir = 'example'  # Directory that will contain parameter estimation runs\n",
    "eventname = 'my_inj'"
   ]
  },
  {
   "cell_type": "markdown",
   "id": "2d3d685c",
   "metadata": {},
   "source": [
    "## Create an injection"
   ]
  },
  {
   "cell_type": "code",
   "execution_count": null,
   "id": "416a3aee",
   "metadata": {
    "ExecuteTime": {
     "end_time": "2023-03-07T21:33:38.189538Z",
     "start_time": "2023-03-07T21:33:37.682782Z"
    }
   },
   "outputs": [],
   "source": [
    "# Instantiate synthetic Gaussian noise with duration, ASD functions and detector names\n",
    "event_data = data.EventData.gaussian_noise(\n",
    "    eventname=eventname, duration=8, detector_names='HLV',\n",
    "    asd_funcs=['asd_H_O3', 'asd_L_O3', 'asd_V_O3'], tgps=0.0)\n",
    "\n",
    "# Inject a signal on top\n",
    "par_dic = {'m1': 33.0,\n",
    "           'm2': 33.0,\n",
    "           'l1': 0,\n",
    "           'l2': 0,\n",
    "           'd_luminosity': 1000.0,\n",
    "           'iota': np.pi / 4,\n",
    "           'phi_ref': np.pi / 5,\n",
    "           'ra': 2.4,\n",
    "           'dec': 0.15,\n",
    "           'psi': 0.5,\n",
    "           's1z': 0.0,\n",
    "           's2z': 0.0,\n",
    "           's1x_n': 0.0,\n",
    "           's1y_n': 0.0,\n",
    "           's2x_n': 0.0,\n",
    "           's2y_n': 0.0,\n",
    "           't_geocenter': 0.0,\n",
    "           'f_ref': 105.0}\n",
    "\n",
    "event_data.inject_signal(par_dic=par_dic, approximant='IMRPhenomXAS')\n",
    "\n",
    "# Plot spectrogram\n",
    "event_data.specgram((-0.1, 0.1))"
   ]
  },
  {
   "cell_type": "markdown",
   "id": "2ba3105c",
   "metadata": {},
   "source": [
    "## Run parameter estimation"
   ]
  },
  {
   "cell_type": "code",
   "execution_count": null,
   "id": "258fda4e",
   "metadata": {
    "ExecuteTime": {
     "end_time": "2023-03-07T21:34:24.646516Z",
     "start_time": "2023-03-07T21:34:08.822345Z"
    }
   },
   "outputs": [],
   "source": [
    "%%time\n",
    "\n",
    "# Maximize likelihood, set up relative-binning summary data:\n",
    "post = posterior.Posterior.from_event(event=event_data, \n",
    "                                      mchirp_guess=None,\n",
    "                                      approximant='IMRPhenomXAS',\n",
    "                                      prior_class='IntrinsicAlignedSpinIASPrior',\n",
    "                                      prior_kwargs={'symmetrize_lnq': True,\n",
    "                                                    'f_ref': par_dic['f_ref']})"
   ]
  },
  {
   "cell_type": "code",
   "execution_count": null,
   "id": "9a6c41cc",
   "metadata": {
    "ExecuteTime": {
     "end_time": "2023-03-07T21:36:55.765883Z",
     "start_time": "2023-03-07T21:34:56.219094Z"
    }
   },
   "outputs": [],
   "source": [
    "%%time\n",
    "\n",
    "# Run the sampler\n",
    "pym = sampling.PyMultiNest(post)\n",
    "pym.run_kwargs['n_live_points'] = 128\n",
    "\n",
    "rundir = pym.get_rundir(parentdir)\n",
    "pym.run(rundir)"
   ]
  },
  {
   "cell_type": "markdown",
   "id": "305722be",
   "metadata": {},
   "source": [
    "### Plot posteriors"
   ]
  },
  {
   "cell_type": "code",
   "execution_count": null,
   "id": "7873a82d",
   "metadata": {
    "ExecuteTime": {
     "end_time": "2023-03-07T21:37:05.363208Z",
     "start_time": "2023-03-07T21:37:05.347298Z"
    }
   },
   "outputs": [],
   "source": [
    "par_dic.update(post.prior.inverse_transform(**par_dic))\n",
    "\n",
    "# Load samples\n",
    "samples = pd.read_feather(rundir/'samples.feather')"
   ]
  },
  {
   "cell_type": "code",
   "execution_count": null,
   "id": "d5533d28",
   "metadata": {
    "ExecuteTime": {
     "end_time": "2023-03-07T21:37:09.744831Z",
     "start_time": "2023-03-07T21:37:05.522525Z"
    }
   },
   "outputs": [],
   "source": [
    "plot_params = ['mchirp', 'lnq', 'chieff', 'd_luminosity', 'iota', \n",
    "               'ra', 'dec', 'psi', 'phi_ref']\n",
    "\n",
    "cp = gw_plotting.CornerPlot(samples, params=plot_params)\n",
    "\n",
    "cp.plot(max_n_ticks=3)\n",
    "cp.scatter_points(par_dic, colors=['C3'])"
   ]
  }
 ],
 "metadata": {
  "kernelspec": {
   "display_name": "Python 3 (ipykernel)",
   "language": "python",
   "name": "python3"
  },
  "language_info": {
   "codemirror_mode": {
    "name": "ipython",
    "version": 3
   },
   "file_extension": ".py",
   "mimetype": "text/x-python",
   "name": "python",
   "nbconvert_exporter": "python",
   "pygments_lexer": "ipython3",
   "version": "3.10.13"
  }
 },
 "nbformat": 4,
 "nbformat_minor": 5
}
