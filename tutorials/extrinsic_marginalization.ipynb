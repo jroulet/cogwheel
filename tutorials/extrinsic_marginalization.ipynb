{
 "cells": [
  {
   "cell_type": "markdown",
   "id": "61f14154-1096-4a89-957f-ccb436c3ae96",
   "metadata": {},
   "source": [
    "# Extrinsic marginalization with precession and higher modes\n",
    "\n",
    "This tutorial illustrates details about the `cogwheel` objects that take care of computing a likelihood marginalized over extrinsic parameters.\n",
    "\n",
    "If you just want to run parameter estimation you don't need to deal with these, see the [`factorized_phm.ipynb`](https://github.com/jroulet/cogwheel/blob/main/tutorials/factorized_phm.ipynb) tutorial instead.\n",
    "\n",
    "The relevant subpackage is `cogwheel.likelihood.marginalization`.\n",
    "\n",
    "Reference: https://arxiv.org/abs/2404.02435"
   ]
  },
  {
   "cell_type": "code",
   "execution_count": null,
   "id": "82a93fd0",
   "metadata": {
    "ExecuteTime": {
     "end_time": "2022-11-04T00:52:11.302362Z",
     "start_time": "2022-11-04T00:52:06.187464Z"
    }
   },
   "outputs": [],
   "source": [
    "# Ensure only one CPU is used:\n",
    "import os\n",
    "os.environ[\"OMP_NUM_THREADS\"] = \"1\"\n",
    "\n",
    "import sys\n",
    "sys.path.append('..')\n",
    "\n",
    "import warnings\n",
    "warnings.filterwarnings(\"ignore\", \"Wswiglal-redir-stdio\")\n",
    "\n",
    "import lal\n",
    "lal.swig_redirect_standard_output_error(False)\n",
    "\n",
    "\n",
    "from pathlib import Path\n",
    "import numpy as np\n",
    "import pandas as pd\n",
    "import matplotlib.pyplot as plt\n",
    "\n",
    "from cogwheel import posterior\n",
    "from cogwheel import sampling\n",
    "from cogwheel import data\n",
    "from cogwheel import likelihood\n",
    "from cogwheel import gw_plotting\n",
    "\n",
    "%matplotlib widget"
   ]
  },
  {
   "cell_type": "code",
   "execution_count": null,
   "id": "5b9f7e23",
   "metadata": {
    "ExecuteTime": {
     "end_time": "2022-11-04T00:52:17.937591Z",
     "start_time": "2022-11-04T00:52:17.887997Z"
    }
   },
   "outputs": [],
   "source": [
    "eventname = 'GW190412'"
   ]
  },
  {
   "cell_type": "code",
   "execution_count": null,
   "id": "fd72c80d",
   "metadata": {
    "ExecuteTime": {
     "end_time": "2022-11-04T00:46:28.382129Z",
     "start_time": "2022-11-04T00:17:49.625212Z"
    },
    "scrolled": true
   },
   "outputs": [],
   "source": [
    "# Automatically instantiate a Posterior object.\n",
    "post = posterior.Posterior.from_event(\n",
    "    eventname,\n",
    "    data.EVENTS_METADATA['mchirp'][eventname],\n",
    "    'IMRPhenomXPHM',\n",
    "    'CartesianIntrinsicIASPrior')"
   ]
  },
  {
   "cell_type": "markdown",
   "id": "e6a0a138-f438-40c1-bbf6-3bdbf0f4cd46",
   "metadata": {},
   "source": [
    "## `MarginalizedExtrinsicLikelihood`\n",
    "\n",
    "Takes care of computing matched-filtering time series `d_h` and covariances `h_h` that are the input to the marginalization."
   ]
  },
  {
   "cell_type": "code",
   "execution_count": null,
   "id": "c36a2bc7-80f2-42dc-9c06-c70457ab1f24",
   "metadata": {},
   "outputs": [],
   "source": [
    "# Since we used an \"Intrinsic\" prior, it figured out that we want a MarginalizedExtrinsicLikelihood:\n",
    "like = post.likelihood\n",
    "like.__class__"
   ]
  },
  {
   "cell_type": "code",
   "execution_count": null,
   "id": "58b63e44-d4b9-49f8-858e-0afe387d67cf",
   "metadata": {},
   "outputs": [],
   "source": [
    "d_h, h_h, timeshift = like._get_dh_hh_timeshift(like.par_dic_0)\n",
    "\n",
    "# We apply a small time shift to align the waveform to the relative binning reference\n",
    "times = like._times - timeshift"
   ]
  },
  {
   "cell_type": "code",
   "execution_count": null,
   "id": "838207c1-ec34-4881-95e6-69e8ecd63c0e",
   "metadata": {},
   "outputs": [],
   "source": [
    "d_h.shape  # modes, polarizations, times, detectors"
   ]
  },
  {
   "cell_type": "code",
   "execution_count": null,
   "id": "ff92388f-8228-427b-b240-a642c26cabc0",
   "metadata": {},
   "outputs": [],
   "source": [
    "h_h.shape  # mode pairs, polarizations, polarizations', detectors"
   ]
  },
  {
   "cell_type": "code",
   "execution_count": null,
   "id": "def943db-e821-483a-97bd-993fdfd99c19",
   "metadata": {},
   "outputs": [],
   "source": [
    "times.shape"
   ]
  },
  {
   "cell_type": "markdown",
   "id": "0998c56b-2c6d-47c3-a94e-f259032aa611",
   "metadata": {},
   "source": [
    "## `CoherentScoreHM`\n",
    "Computes the marginalized likelihood given the timeseries and covariances.\n",
    "\n",
    "Generates extrinsic-parameter samples."
   ]
  },
  {
   "cell_type": "code",
   "execution_count": null,
   "id": "f76ef1e3-86cc-4389-b330-f1ca6a3530c7",
   "metadata": {},
   "outputs": [],
   "source": [
    "coherent_score = post.likelihood.coherent_score\n",
    "coherent_score.__class__"
   ]
  },
  {
   "cell_type": "code",
   "execution_count": null,
   "id": "64be9347-4a7a-4912-9ad8-3db5f6875cd7",
   "metadata": {},
   "outputs": [],
   "source": [
    "coherent_score.min_n_effective  # Convergence criterion"
   ]
  },
  {
   "cell_type": "code",
   "execution_count": null,
   "id": "8fa81917-b277-496e-a5f3-9665a2a35cbd",
   "metadata": {},
   "outputs": [],
   "source": [
    "2**coherent_score.log2n_qmc  # Samples per proposal"
   ]
  },
  {
   "cell_type": "code",
   "execution_count": null,
   "id": "1e2a1ca4-f600-4b65-9bae-7808da96aac0",
   "metadata": {},
   "outputs": [],
   "source": [
    "# Compute the marginalized likelihood:\n",
    "marg_info = coherent_score.get_marginalization_info(d_h, h_h, times)\n",
    "marg_info.lnl_marginalized"
   ]
  },
  {
   "cell_type": "code",
   "execution_count": null,
   "id": "a91a1cd4-a73a-421e-a44e-7f9935238d8a",
   "metadata": {},
   "outputs": [],
   "source": [
    "# Generate extrinsic parameter samples\n",
    "pd.DataFrame(coherent_score.gen_samples_from_marg_info(marg_info, num=10))"
   ]
  },
  {
   "cell_type": "markdown",
   "id": "6d3ce92b-c2a5-466d-a853-3436fcb30c09",
   "metadata": {},
   "source": [
    "## `MarginalizationInfoHM`\n",
    "Contains data products associated with a single likelihood marginalization."
   ]
  },
  {
   "cell_type": "code",
   "execution_count": null,
   "id": "d54425e3-ad70-4e20-975f-407213ac8585",
   "metadata": {},
   "outputs": [],
   "source": [
    "marg_info.__class__"
   ]
  },
  {
   "cell_type": "code",
   "execution_count": null,
   "id": "7939263b-8d71-41df-9222-c94e9301e282",
   "metadata": {},
   "outputs": [],
   "source": [
    "marg_info.lnl_marginalized  # Final answer"
   ]
  },
  {
   "cell_type": "code",
   "execution_count": null,
   "id": "833f1b20-2764-404e-84f3-499120f26511",
   "metadata": {},
   "outputs": [],
   "source": [
    "marg_info.n_effective  # Effective number of samples achieved"
   ]
  },
  {
   "cell_type": "code",
   "execution_count": null,
   "id": "44801b4c-13ea-464b-9413-01751f9ccf74",
   "metadata": {},
   "outputs": [],
   "source": [
    "len(marg_info.proposals)  # The importance sampling integral required these many adaptations to converge"
   ]
  },
  {
   "cell_type": "code",
   "execution_count": null,
   "id": "48d6a4ff-87c1-4a54-8a98-5e90bf2a4c4d",
   "metadata": {},
   "outputs": [],
   "source": [
    "marg_info.proposals[0].shape  # detectors, upsampled times\n",
    "\n",
    "# Note that times have been upsampled to match the resolution of the sky dictionary (see below)\n",
    "\n",
    "_, upsampled_times = coherent_score.sky_dict.resample_timeseries(np.zeros_like(times), times)"
   ]
  },
  {
   "cell_type": "code",
   "execution_count": null,
   "id": "6c762f59-7023-4bc2-a36c-f9bde1f4d16b",
   "metadata": {},
   "outputs": [],
   "source": [
    "# Plot a proposal\n",
    "j_proposal = 0\n",
    "plt.figure()\n",
    "plt.plot(upsampled_times, marg_info.proposals[j_proposal].T, label=coherent_score.sky_dict.detector_names)\n",
    "plt.legend()\n",
    "plt.ylim(0)\n",
    "plt.xlabel('Time (s)')\n",
    "plt.ylabel(rf'Detector time of arrival proposal, $P_d^{{({j_proposal})}}(\\tau)$')"
   ]
  },
  {
   "cell_type": "markdown",
   "id": "c244f453-7ecc-47a7-9244-b82fa67d0d78",
   "metadata": {},
   "source": [
    "## `SkyDictionary`\n",
    "Maps discrete time delays to arrival directions.\n",
    "\n",
    "Computes prior of time delays."
   ]
  },
  {
   "cell_type": "code",
   "execution_count": null,
   "id": "349675ee-0b1c-4644-ba3f-005352207ff1",
   "metadata": {},
   "outputs": [],
   "source": [
    "sky_dict = coherent_score.sky_dict\n",
    "sky_dict.__class__"
   ]
  },
  {
   "cell_type": "code",
   "execution_count": null,
   "id": "ef5273eb-eb13-46c1-9176-a708c43331c3",
   "metadata": {},
   "outputs": [],
   "source": [
    "pd.DataFrame(sky_dict.sky_samples)  # Quasi Monte Carlo sequence of isotropic samples in the sky"
   ]
  },
  {
   "cell_type": "code",
   "execution_count": null,
   "id": "978a13b9-75aa-45e5-8e25-03438960e82e",
   "metadata": {},
   "outputs": [],
   "source": [
    "sky_dict.f_sampling  # The time axis is discretized at this resolution (Hz) := 1/Delta"
   ]
  },
  {
   "cell_type": "code",
   "execution_count": null,
   "id": "dde3b2e6-4b58-4006-a45c-3dbec716df4e",
   "metadata": {},
   "outputs": [],
   "source": [
    "sky_dict.detector_names"
   ]
  },
  {
   "cell_type": "code",
   "execution_count": null,
   "id": "ad4a5264-7208-4b7e-890d-eea9a15b3731",
   "metadata": {},
   "outputs": [],
   "source": [
    "list(sky_dict.delays2inds_map.keys())[:10]  # Keys are (HL delay, HV delay) in units of Delta "
   ]
  },
  {
   "cell_type": "code",
   "execution_count": null,
   "id": "8439f618-4690-4fa2-b019-a6bc2bd925ab",
   "metadata": {},
   "outputs": [],
   "source": [
    "sky_dict.delays2inds_map[10, 20]  # Indices of samples with these time delays"
   ]
  },
  {
   "cell_type": "code",
   "execution_count": null,
   "id": "0396cd0f-9793-477d-b276-bea4e76608fd",
   "metadata": {},
   "outputs": [],
   "source": [
    "sky_dict.get_sky_inds_and_prior(delays=np.array(([10], [20])))  # Sky sample index, prior, and whether the delays requested are physical"
   ]
  },
  {
   "cell_type": "markdown",
   "id": "fc9d3964-dc86-4223-a186-467ec5bc77e9",
   "metadata": {},
   "source": [
    "## `LookupTable`\n",
    "Marginalizes the likelihood over distance."
   ]
  },
  {
   "cell_type": "code",
   "execution_count": null,
   "id": "2978bfff-2152-443b-b416-f3ca163854dd",
   "metadata": {},
   "outputs": [],
   "source": [
    "coherent_score.lookup_table.__class__"
   ]
  },
  {
   "cell_type": "code",
   "execution_count": null,
   "id": "97f9c723-6ae4-45b6-9fde-8f33d15efdfc",
   "metadata": {},
   "outputs": [],
   "source": [
    "coherent_score.lookup_table.d_luminosity_prior_name"
   ]
  },
  {
   "cell_type": "code",
   "execution_count": null,
   "id": "dbb15863-2ca5-4a33-a82c-9f7d45a47af6",
   "metadata": {},
   "outputs": [],
   "source": [
    "coherent_score.lookup_table.marginalized_params"
   ]
  },
  {
   "cell_type": "code",
   "execution_count": null,
   "id": "191dfafc-29a9-4283-8748-933c94e3cb97",
   "metadata": {},
   "outputs": [],
   "source": [
    "coherent_score.lookup_table.d_luminosity_max  # Mpc"
   ]
  },
  {
   "cell_type": "code",
   "execution_count": null,
   "id": "6c63bb92-280c-4fab-9986-751e1dbc84c9",
   "metadata": {},
   "outputs": [],
   "source": [
    "coherent_score.lookup_table.lnlike_marginalized(marg_info.d_h[0], marg_info.h_h[0])"
   ]
  }
 ],
 "metadata": {
  "kernelspec": {
   "display_name": "Python 3 (ipykernel)",
   "language": "python",
   "name": "python3"
  },
  "language_info": {
   "codemirror_mode": {
    "name": "ipython",
    "version": 3
   },
   "file_extension": ".py",
   "mimetype": "text/x-python",
   "name": "python",
   "nbconvert_exporter": "python",
   "pygments_lexer": "ipython3",
   "version": "3.10.13"
  }
 },
 "nbformat": 4,
 "nbformat_minor": 5
}
